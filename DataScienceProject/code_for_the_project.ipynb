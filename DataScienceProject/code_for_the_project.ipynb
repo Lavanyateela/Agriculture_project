{
 "cells": [
  {
   "cell_type": "code",
   "execution_count": 5,
   "metadata": {},
   "outputs": [],
   "source": [
    "# importing packages\n",
    "\n",
    "# for manipulation\n",
    "import numpy as np\n",
    "import pandas as pd\n",
    "\n",
    "# for data visualization\n",
    "import matplotlib as plt\n",
    "import seaborn as sns\n",
    "\n",
    "# for interactivity\n",
    "from ipywidgets import interact"
   ]
  },
  {
   "cell_type": "code",
   "execution_count": 6,
   "metadata": {},
   "outputs": [],
   "source": [
    "# lets read the dataset which is in csv format\n",
    "\n",
    "data=pd.read_csv(\"Optimising_Agriculture_Production.csv\")"
   ]
  },
  {
   "cell_type": "code",
   "execution_count": 7,
   "metadata": {},
   "outputs": [
    {
     "name": "stdout",
     "output_type": "stream",
     "text": [
      "Shape of Dataset :  (2200, 8)\n"
     ]
    }
   ],
   "source": [
    "# lets check the shape of the dataset \n",
    "# Here we have 2200 rows and 8 columns\n",
    "\n",
    "print(\"Shape of Dataset : \",data.shape)"
   ]
  },
  {
   "cell_type": "code",
   "execution_count": 8,
   "metadata": {},
   "outputs": [
    {
     "data": {
      "text/html": [
       "<div>\n",
       "<style scoped>\n",
       "    .dataframe tbody tr th:only-of-type {\n",
       "        vertical-align: middle;\n",
       "    }\n",
       "\n",
       "    .dataframe tbody tr th {\n",
       "        vertical-align: top;\n",
       "    }\n",
       "\n",
       "    .dataframe thead th {\n",
       "        text-align: right;\n",
       "    }\n",
       "</style>\n",
       "<table border=\"1\" class=\"dataframe\">\n",
       "  <thead>\n",
       "    <tr style=\"text-align: right;\">\n",
       "      <th></th>\n",
       "      <th>N</th>\n",
       "      <th>P</th>\n",
       "      <th>K</th>\n",
       "      <th>temperature</th>\n",
       "      <th>humidity</th>\n",
       "      <th>ph</th>\n",
       "      <th>rainfall</th>\n",
       "      <th>label</th>\n",
       "    </tr>\n",
       "  </thead>\n",
       "  <tbody>\n",
       "    <tr>\n",
       "      <th>0</th>\n",
       "      <td>90</td>\n",
       "      <td>42</td>\n",
       "      <td>43</td>\n",
       "      <td>20.879744</td>\n",
       "      <td>82.002744</td>\n",
       "      <td>6.502985</td>\n",
       "      <td>202.935536</td>\n",
       "      <td>rice</td>\n",
       "    </tr>\n",
       "    <tr>\n",
       "      <th>1</th>\n",
       "      <td>85</td>\n",
       "      <td>58</td>\n",
       "      <td>41</td>\n",
       "      <td>21.770462</td>\n",
       "      <td>80.319644</td>\n",
       "      <td>7.038096</td>\n",
       "      <td>226.655537</td>\n",
       "      <td>rice</td>\n",
       "    </tr>\n",
       "    <tr>\n",
       "      <th>2</th>\n",
       "      <td>60</td>\n",
       "      <td>55</td>\n",
       "      <td>44</td>\n",
       "      <td>23.004459</td>\n",
       "      <td>82.320763</td>\n",
       "      <td>7.840207</td>\n",
       "      <td>263.964248</td>\n",
       "      <td>rice</td>\n",
       "    </tr>\n",
       "    <tr>\n",
       "      <th>3</th>\n",
       "      <td>74</td>\n",
       "      <td>35</td>\n",
       "      <td>40</td>\n",
       "      <td>26.491096</td>\n",
       "      <td>80.158363</td>\n",
       "      <td>6.980401</td>\n",
       "      <td>242.864034</td>\n",
       "      <td>rice</td>\n",
       "    </tr>\n",
       "    <tr>\n",
       "      <th>4</th>\n",
       "      <td>78</td>\n",
       "      <td>42</td>\n",
       "      <td>42</td>\n",
       "      <td>20.130175</td>\n",
       "      <td>81.604873</td>\n",
       "      <td>7.628473</td>\n",
       "      <td>262.717340</td>\n",
       "      <td>rice</td>\n",
       "    </tr>\n",
       "  </tbody>\n",
       "</table>\n",
       "</div>"
      ],
      "text/plain": [
       "    N   P   K  temperature   humidity        ph    rainfall label\n",
       "0  90  42  43    20.879744  82.002744  6.502985  202.935536  rice\n",
       "1  85  58  41    21.770462  80.319644  7.038096  226.655537  rice\n",
       "2  60  55  44    23.004459  82.320763  7.840207  263.964248  rice\n",
       "3  74  35  40    26.491096  80.158363  6.980401  242.864034  rice\n",
       "4  78  42  42    20.130175  81.604873  7.628473  262.717340  rice"
      ]
     },
     "execution_count": 8,
     "metadata": {},
     "output_type": "execute_result"
    }
   ],
   "source": [
    "# let's check the head of the dataset\n",
    "\n",
    "data.head()"
   ]
  },
  {
   "cell_type": "code",
   "execution_count": 9,
   "metadata": {},
   "outputs": [
    {
     "data": {
      "text/plain": [
       "N              0\n",
       "P              0\n",
       "K              0\n",
       "temperature    0\n",
       "humidity       0\n",
       "ph             0\n",
       "rainfall       0\n",
       "label          0\n",
       "dtype: int64"
      ]
     },
     "execution_count": 9,
     "metadata": {},
     "output_type": "execute_result"
    }
   ],
   "source": [
    "# let's check if there are any missing values present in our dataset\n",
    "\n",
    "data.isnull().sum()\n",
    "\n",
    "# if there are any missing values we can replace with mean or median or mode based on out requirements"
   ]
  },
  {
   "cell_type": "code",
   "execution_count": 10,
   "metadata": {},
   "outputs": [
    {
     "data": {
      "text/plain": [
       "pigeonpeas     100\n",
       "coconut        100\n",
       "apple          100\n",
       "watermelon     100\n",
       "pomegranate    100\n",
       "lentil         100\n",
       "mungbean       100\n",
       "grapes         100\n",
       "papaya         100\n",
       "rice           100\n",
       "orange         100\n",
       "banana         100\n",
       "chickpea       100\n",
       "mothbeans      100\n",
       "mango          100\n",
       "coffee         100\n",
       "maize          100\n",
       "cotton         100\n",
       "muskmelon      100\n",
       "kidneybeans    100\n",
       "blackgram      100\n",
       "jute           100\n",
       "Name: label, dtype: int64"
      ]
     },
     "execution_count": 10,
     "metadata": {},
     "output_type": "execute_result"
    }
   ],
   "source": [
    "# let's check the crops present in this dataset with the count \n",
    "\n",
    "data['label'].value_counts()"
   ]
  },
  {
   "cell_type": "code",
   "execution_count": 11,
   "metadata": {},
   "outputs": [
    {
     "name": "stdout",
     "output_type": "stream",
     "text": [
      "Average Ratio of Nitrogen in the soil :50.55\n",
      "Average Ratio of Phosporous in the soil :53.36\n",
      "Average Ratio of Potassium in the soil :48.15\n",
      "Average Temparature in celsius:25.62\n",
      "Average Relative Humidity is :71.48\n",
      "Average value of ph of the soil :6.47\n",
      "Average Rainfall in mm :103.46\n"
     ]
    }
   ],
   "source": [
    "# let's check the Summary for all the crops\n",
    "\n",
    "print(\"Average Ratio of Nitrogen in the soil :{0:.2f}\".format(data['N'].mean()))\n",
    "print(\"Average Ratio of Phosporous in the soil :{0:.2f}\".format(data['P'].mean()))\n",
    "print(\"Average Ratio of Potassium in the soil :{0:.2f}\".format(data['K'].mean()))\n",
    "print(\"Average Temparature in celsius:{0:.2f}\".format(data['temperature'].mean()))\n",
    "print(\"Average Relative Humidity is :{0:.2f}\".format(data['humidity'].mean()))\n",
    "print(\"Average value of ph of the soil :{0:.2f}\".format(data['ph'].mean()))\n",
    "print(\"Average Rainfall in mm :{0:.2f}\".format(data['rainfall'].mean()))"
   ]
  },
  {
   "cell_type": "code",
   "execution_count": 12,
   "metadata": {},
   "outputs": [
    {
     "data": {
      "application/vnd.jupyter.widget-view+json": {
       "model_id": "72dacc1982ec43548b678ab77e84a6e5",
       "version_major": 2,
       "version_minor": 0
      },
      "text/plain": [
       "interactive(children=(Dropdown(description='crops', options=('pigeonpeas', 'coconut', 'apple', 'watermelon', '…"
      ]
     },
     "metadata": {},
     "output_type": "display_data"
    }
   ],
   "source": [
    "# let's check the summary statistics for each of the crops based on the columns we have\n",
    "\n",
    "@ interact\n",
    "def summary(crops = list(data['label'].value_counts().index)):\n",
    "    x=data[data['label']==crops]\n",
    "    print(\"**********************************************************************\")\n",
    "    print(\"Statistics for Nitrogen \")\n",
    "    print(\"Minimum Nitrogen Required : \",x['N'].min())\n",
    "    print(\"Average Nitrogen Required : \",x['N'].mean())\n",
    "    print(\"Maximum Nitrogen Required : \",x['N'].max())\n",
    "    print(\"**********************************************************************\")\n",
    "    print(\"Statistics for  Phosporous\")\n",
    "    print(\"Minimum Phosporous Required : \",x['P'].min())\n",
    "    print(\"Average Phosporous Required : \",x['P'].mean())\n",
    "    print(\"Maximum Phosporous Required : \",x['P'].max())\n",
    "    print(\"**********************************************************************\")\n",
    "    print(\"Statistics for  Potassium\")\n",
    "    print(\"Minimum Potassium Required : \",x['K'].min())\n",
    "    print(\"Average Potassium Required : \",x['K'].mean())\n",
    "    print(\"Maximum Potassium Required : \",x['K'].max())\n",
    "    print(\"**********************************************************************\")\n",
    "    print(\"Statistics for Temparature \")\n",
    "    print(\"Minimum Temparature Required : {0:.2f}\".format(x['temperature'].min()))\n",
    "    print(\"Average Temparature Required : {0:.2f}\".format(x['temperature'].mean()))\n",
    "    print(\"Maximum Temparature Required : {0:.2f}\".format(x['temperature'].max()))\n",
    "    print(\"**********************************************************************\")\n",
    "    print(\"Statistics for Humidity \")\n",
    "    print(\"Minimum Humidity Required : {0:.2f}\".format(x['humidity'].min()))\n",
    "    print(\"Average Humidity Required : {0:.2f}\".format(x['humidity'].mean()))\n",
    "    print(\"Maximum Humidity Required : {0:.2f}\".format(x['humidity'].max()))\n",
    "    print(\"**********************************************************************\")\n",
    "    print(\"Statistics for ph \")\n",
    "    print(\"Minimum ph Required : {0:.2f}\".format(x['ph'].min()))\n",
    "    print(\"Average ph Required : {0:.2f}\".format(x['ph'].mean()))\n",
    "    print(\"Maximum ph Required : {0:.2f}\".format(x['ph'].max()))\n",
    "    print(\"**********************************************************************\")\n",
    "    print(\"Statistics for Rainfall \")\n",
    "    print(\"Minimum Rainfall Required : {0:.2f}\".format(x['rainfall'].min()))\n",
    "    print(\"Average Rainfall Required : {0:.2f}\".format(x['rainfall'].mean()))\n",
    "    print(\"Maximum Rainfall Required : {0:.2f}\".format(x['rainfall'].max()))\n",
    "    "
   ]
  },
  {
   "cell_type": "code",
   "execution_count": 13,
   "metadata": {},
   "outputs": [
    {
     "data": {
      "application/vnd.jupyter.widget-view+json": {
       "model_id": "0d0c8ee31c254a95aa8e87deb761b23e",
       "version_major": 2,
       "version_minor": 0
      },
      "text/plain": [
       "interactive(children=(Dropdown(description='conditions', options=('N', 'P', 'K', 'temperature', 'ph', 'humidit…"
      ]
     },
     "metadata": {},
     "output_type": "display_data"
    }
   ],
   "source": [
    "# let's check the Average Requirements for each crop with average conditions\n",
    "\n",
    "@ interact\n",
    "def compare(conditions = ['N','P','K','temperature','ph','humidity','rainfall']):\n",
    "    print(\"Average Value for \",conditions,\"is {0:.2f}\".format(data[conditions].mean()))\n",
    "    print(\"************************************************************************************************\")\n",
    "    print(\"Rice : {0:.2f}\".format(data[(data['label']=='rice')][conditions].mean()))\n",
    "    print(\"Chickpea : {0:.2f}\".format(data[(data['label']=='chickpea')][conditions].mean()))\n",
    "    print(\"orange : {0:.2f}\".format(data[(data['label']=='orange')][conditions].mean()))\n",
    "    print(\"maize : {0:.2f}\".format(data[(data['label']=='maize')][conditions].mean()))\n",
    "    print(\"banana : {0:.2f}\".format(data[(data['label']=='banana')][conditions].mean()))\n",
    "    print(\"watermelon : {0:.2f}\".format(data[(data['label']=='watermelon')][conditions].mean()))\n",
    "    print(\"mothbeans : {0:.2f}\".format(data[(data['label']=='mothbeans')][conditions].mean()))\n",
    "    print(\"kidneybeans : {0:.2f}\".format(data[(data['label']=='kidneybeans')][conditions].mean()))\n",
    "    print(\"cotton : {0:.2f}\".format(data[(data['label']=='cotton')][conditions].mean()))\n",
    "    print(\"coffee : {0:.2f}\".format(data[(data['label']=='coffee')][conditions].mean()))\n",
    "    print(\"lentil : {0:.2f}\".format(data[(data['label']=='lentil')][conditions].mean()))\n",
    "    print(\"coconut : {0:.2f}\".format(data[(data['label']=='coconut')][conditions].mean()))\n",
    "    print(\"jute : {0:.2f}\".format(data[(data['label']=='jute')][conditions].mean()))\n",
    "    print(\"grapes : {0:.2f}\".format(data[(data['label']=='grapes')][conditions].mean()))\n",
    "    print(\"pomegranate : {0:.2f}\".format(data[(data['label']=='pomegranate')][conditions].mean()))\n",
    "    print(\"mungbean : {0:.2f}\".format(data[(data['label']=='mungbean')][conditions].mean()))\n",
    "    print(\"papaya : {0:.2f}\".format(data[(data['label']=='papaya')][conditions].mean()))\n",
    "    print(\"apple : {0:.2f}\".format(data[(data['label']=='apple')][conditions].mean()))\n",
    "    print(\"blackgram : {0:.2f}\".format(data[(data['label']=='blackgram')][conditions].mean()))\n",
    "    print(\"muskmelon : {0:.2f}\".format(data[(data['label']=='muskmelon')][conditions].mean()))\n",
    "    print(\"mango : {0:.2f}\".format(data[(data['label']=='mango')][conditions].mean()))\n",
    "    print(\"pigeonpeas : {0:.2f}\".format(data[(data['label']=='pigeonpeas')][conditions].mean()))\n",
    "    "
   ]
  },
  {
   "cell_type": "code",
   "execution_count": 14,
   "metadata": {},
   "outputs": [
    {
     "data": {
      "application/vnd.jupyter.widget-view+json": {
       "model_id": "8a2300a5e4774c67b8229eb4c3452af3",
       "version_major": 2,
       "version_minor": 0
      },
      "text/plain": [
       "interactive(children=(Dropdown(description='conditions', options=('N', 'P', 'K', 'temperature', 'ph', 'humidit…"
      ]
     },
     "metadata": {},
     "output_type": "display_data"
    }
   ],
   "source": [
    "# let's check the crops which require more than the average and which requires less than the average\n",
    "\n",
    "@ interact\n",
    "def compare(conditions = ['N','P','K','temperature','ph','humidity','rainfall']):\n",
    "    print(\"Crops which require greater than Average\",conditions,'\\n')\n",
    "    print(data[data[conditions]>data[conditions].mean()]['label'].unique())\n",
    "    print(\"********************************************************************************\")\n",
    "    print(\"Crops which require less than Average\",conditions,'\\n')\n",
    "    print(data[data[conditions]<=data[conditions].mean()]['label'].unique())"
   ]
  },
  {
   "cell_type": "code",
   "execution_count": 16,
   "metadata": {},
   "outputs": [
    {
     "name": "stderr",
     "output_type": "stream",
     "text": [
      "c:\\users\\teela.lavanya\\appdata\\local\\programs\\python\\python36\\lib\\site-packages\\seaborn\\distributions.py:2619: FutureWarning: `distplot` is a deprecated function and will be removed in a future version. Please adapt your code to use either `displot` (a figure-level function with similar flexibility) or `histplot` (an axes-level function for histograms).\n",
      "  warnings.warn(msg, FutureWarning)\n",
      "c:\\users\\teela.lavanya\\appdata\\local\\programs\\python\\python36\\lib\\site-packages\\seaborn\\distributions.py:2619: FutureWarning: `distplot` is a deprecated function and will be removed in a future version. Please adapt your code to use either `displot` (a figure-level function with similar flexibility) or `histplot` (an axes-level function for histograms).\n",
      "  warnings.warn(msg, FutureWarning)\n",
      "c:\\users\\teela.lavanya\\appdata\\local\\programs\\python\\python36\\lib\\site-packages\\seaborn\\distributions.py:2619: FutureWarning: `distplot` is a deprecated function and will be removed in a future version. Please adapt your code to use either `displot` (a figure-level function with similar flexibility) or `histplot` (an axes-level function for histograms).\n",
      "  warnings.warn(msg, FutureWarning)\n",
      "c:\\users\\teela.lavanya\\appdata\\local\\programs\\python\\python36\\lib\\site-packages\\seaborn\\distributions.py:2619: FutureWarning: `distplot` is a deprecated function and will be removed in a future version. Please adapt your code to use either `displot` (a figure-level function with similar flexibility) or `histplot` (an axes-level function for histograms).\n",
      "  warnings.warn(msg, FutureWarning)\n",
      "c:\\users\\teela.lavanya\\appdata\\local\\programs\\python\\python36\\lib\\site-packages\\seaborn\\distributions.py:2619: FutureWarning: `distplot` is a deprecated function and will be removed in a future version. Please adapt your code to use either `displot` (a figure-level function with similar flexibility) or `histplot` (an axes-level function for histograms).\n",
      "  warnings.warn(msg, FutureWarning)\n",
      "c:\\users\\teela.lavanya\\appdata\\local\\programs\\python\\python36\\lib\\site-packages\\seaborn\\distributions.py:2619: FutureWarning: `distplot` is a deprecated function and will be removed in a future version. Please adapt your code to use either `displot` (a figure-level function with similar flexibility) or `histplot` (an axes-level function for histograms).\n",
      "  warnings.warn(msg, FutureWarning)\n",
      "c:\\users\\teela.lavanya\\appdata\\local\\programs\\python\\python36\\lib\\site-packages\\seaborn\\distributions.py:2619: FutureWarning: `distplot` is a deprecated function and will be removed in a future version. Please adapt your code to use either `displot` (a figure-level function with similar flexibility) or `histplot` (an axes-level function for histograms).\n",
      "  warnings.warn(msg, FutureWarning)\n"
     ]
    },
    {
     "data": {
      "image/png": "[encoded data removed]",
      "text/plain": [
       "<Figure size 432x288 with 7 Axes>"
      ]
     },
     "metadata": {
      "needs_background": "light"
     },
     "output_type": "display_data"
    }
   ],
   "source": [
    "# Distribution Graphs\n",
    "\n",
    "import matplotlib.pyplot as plt \n",
    "\n",
    "plt.subplot(2,4,1)\n",
    "sns.distplot(data['N'],color='blue')\n",
    "plt.xlabel(\"Ratio of nitrogen\",fontsize='12')\n",
    "plt.grid()\n",
    "\n",
    "plt.subplot(2,4,2)\n",
    "sns.distplot(data['P'],color='pink')\n",
    "plt.xlabel(\"Ratio of phosporous\",fontsize='12')\n",
    "plt.grid()\n",
    "\n",
    "plt.subplot(2,4,3)\n",
    "sns.distplot(data['K'],color='green')\n",
    "plt.xlabel(\"Ratio of Potassium\",fontsize='12')\n",
    "plt.grid()\n",
    "\n",
    "plt.subplot(2,4,4)\n",
    "sns.distplot(data['temperature'],color='blue')\n",
    "plt.xlabel(\"Temperature\",fontsize='12')\n",
    "plt.grid()\n",
    "\n",
    "plt.subplot(2,4,5)\n",
    "sns.distplot(data['ph'],color='yellow')\n",
    "plt.xlabel(\"pH Level\",fontsize='12')\n",
    "plt.grid()\n",
    "\n",
    "plt.subplot(2,4,6)\n",
    "sns.distplot(data['humidity'],color='purple')\n",
    "plt.xlabel(\"Humidity\",fontsize='12')\n",
    "plt.grid()\n",
    "\n",
    "plt.subplot(2,4,7)\n",
    "sns.distplot(data['rainfall'],color='grey')\n",
    "plt.xlabel(\"Rainfall\",fontsize='12')\n",
    "plt.grid()\n",
    "\n",
    "plt.suptitle('Distribution for Agricultural Conditions',fontsize=20)\n",
    "plt.show()"
   ]
  },
  {
   "cell_type": "code",
   "execution_count": 17,
   "metadata": {},
   "outputs": [
    {
     "name": "stdout",
     "output_type": "stream",
     "text": [
      "Some Interesting Patterns\n",
      "**********************************************************************\n",
      "Crops which requires very high ratio of Nitrogen content in soil  ['cotton']\n",
      "Crops which requires very high ratio of Phosporous content in soil  ['grapes' 'apple']\n",
      "Crops which requires very high ratio of Potassium content in soil  ['grapes' 'apple']\n",
      "Crops which require very high rainfall  ['rice' 'papaya' 'coconut']\n",
      "Crops which require very low temparature  ['grapes']\n",
      "Crops which require very high temperature  ['grapes' 'papaya']\n",
      "Crops which require very low humidity  ['chickpea' 'kidneybeans']\n",
      "Crops which require very low ph  ['mothbeans']\n",
      "Crops which require very high ph  ['mothbeans']\n"
     ]
    }
   ],
   "source": [
    "# let's find some interesting facts based on requirements we have and classify based on the inputs we have\n",
    "\n",
    "print(\"Some Interesting Patterns\")\n",
    "print(\"**********************************************************************\")\n",
    "print(\"Crops which requires very high ratio of Nitrogen content in soil \",data[data['N']>120]['label'].unique())\n",
    "print(\"Crops which requires very high ratio of Phosporous content in soil \",data[data['P']>100]['label'].unique())\n",
    "print(\"Crops which requires very high ratio of Potassium content in soil \",data[data['K']>200]['label'].unique())\n",
    "print(\"Crops which require very high rainfall \",data[data['rainfall']>200]['label'].unique())\n",
    "print(\"Crops which require very low temparature \",data[data['temperature']<10]['label'].unique())\n",
    "print(\"Crops which require very high temperature \",data[data['temperature']>40]['label'].unique())\n",
    "print(\"Crops which require very low humidity \",data[data['humidity']<20]['label'].unique())\n",
    "print(\"Crops which require very low ph \",data[data['ph']<4]['label'].unique())\n",
    "print(\"Crops which require very high ph \",data[data['ph']>9]['label'].unique())\n"
   ]
  },
  {
   "cell_type": "code",
   "execution_count": 18,
   "metadata": {},
   "outputs": [
    {
     "name": "stdout",
     "output_type": "stream",
     "text": [
      "Summer Crops\n",
      "['pigeonpeas' 'mothbeans' 'blackgram' 'mango' 'grapes' 'orange' 'papaya']\n",
      "************************************************************************************\n",
      "Winter Crops\n",
      "['maize' 'pigeonpeas' 'lentil' 'pomegranate' 'grapes' 'orange']\n",
      "************************************************************************************\n",
      "Rainy Crops\n",
      "['rice' 'papaya' 'coconut']\n",
      "************************************************************************************\n"
     ]
    }
   ],
   "source": [
    "## let's understand which crops can only be grown in Summer Season, Winter Season, Rainy Season\n",
    "\n",
    "print(\"Summer Crops\")\n",
    "print(data[(data['temperature']>30) & (data['humidity']>50)]['label'].unique())\n",
    "print(\"************************************************************************************\")\n",
    "print(\"Winter Crops\")\n",
    "print(data[(data['temperature']<20) & (data['humidity']>30)]['label'].unique())\n",
    "print(\"************************************************************************************\")\n",
    "print(\"Rainy Crops\")\n",
    "print(data[(data['rainfall']>200) & (data['humidity']>20)]['label'].unique())\n",
    "print(\"************************************************************************************\")\n"
   ]
  },
  {
   "cell_type": "code",
   "execution_count": 19,
   "metadata": {},
   "outputs": [
    {
     "name": "stdout",
     "output_type": "stream",
     "text": [
      "(2200, 7)\n"
     ]
    }
   ],
   "source": [
    "## Here we use clustering analysis\n",
    "## Clustering Analysis is an Unsupervised Learning so we need not to have labels so we drop the labels\n",
    "\n",
    "from sklearn.cluster import KMeans\n",
    "x=data.drop(['label'],axis=1)\n",
    "x=x.values\n",
    "print(x.shape)"
   ]
  },
  {
   "cell_type": "code",
   "execution_count": 20,
   "metadata": {},
   "outputs": [
    {
     "data": {
      "image/png": "[encoded data removed]",
      "text/plain": [
       "<Figure size 720x288 with 1 Axes>"
      ]
     },
     "metadata": {
      "needs_background": "light"
     },
     "output_type": "display_data"
    }
   ],
   "source": [
    "## We need to know well in advance how many clusters are to be used in our project so we use elbow method\n",
    "## Elbow is a slight bent in the graph .\n",
    "## If we have many bents we choose the last bent which is 4 in this case\n",
    "\n",
    "import matplotlib.pyplot as plt \n",
    "plt.rcParams['figure.figsize']=(10,4)\n",
    "wcss=[]\n",
    "for i in range(1,11):\n",
    "    km=KMeans(n_clusters=i,init='k-means++',max_iter=300,n_init=10,random_state=0)\n",
    "    km.fit(x)\n",
    "    wcss.append(km.inertia_)\n",
    "    \n",
    "plt.plot(range(1,11),wcss)\n",
    "plt.title('The Elbow method', fontsize=20)\n",
    "plt.xlabel('Number of Clusters')\n",
    "plt.ylabel('wcss')\n",
    "plt.show()"
   ]
  },
  {
   "cell_type": "code",
   "execution_count": 21,
   "metadata": {},
   "outputs": [
    {
     "name": "stdout",
     "output_type": "stream",
     "text": [
      "Let's check the results after applying K Means Clustering Analysis \n",
      "\n",
      "Crops in First Cluster ['maize' 'chickpea' 'kidneybeans' 'pigeonpeas' 'mothbeans' 'mungbean'\n",
      " 'blackgram' 'lentil' 'pomegranate' 'mango' 'orange' 'papaya' 'coconut']\n",
      "****************************************************************************\n",
      "Crops in Second Cluster ['maize' 'banana' 'watermelon' 'muskmelon' 'papaya' 'cotton' 'coffee']\n",
      "****************************************************************************\n",
      "Crops in Third Cluster ['grapes' 'apple']\n",
      "****************************************************************************\n",
      "Crops in Fourth Cluster ['rice' 'pigeonpeas' 'papaya' 'coconut' 'jute' 'coffee']\n",
      "****************************************************************************\n"
     ]
    }
   ],
   "source": [
    "## Here we use 4 clusters in this project\n",
    "## lets implement the K means algorithm to perform clustering analysis\n",
    "\n",
    "km=KMeans(n_clusters=4,init='k-means++',max_iter=300,n_init=10,random_state=0)\n",
    "y_means=km.fit_predict(x)\n",
    "\n",
    "# let's find out the results\n",
    "a=data['label']\n",
    "y_means=pd.DataFrame(y_means)\n",
    "z=pd.concat([y_means,a],axis=1)\n",
    "z=z.rename(columns={0:'cluster'})\n",
    "\n",
    "# let's find the clusters of each crops\n",
    "print(\"Let's check the results after applying K Means Clustering Analysis \\n\")\n",
    "print(\"Crops in First Cluster\",z[z['cluster']==0]['label'].unique())\n",
    "print(\"****************************************************************************\")\n",
    "print(\"Crops in Second Cluster\",z[z['cluster']==1]['label'].unique())\n",
    "print(\"****************************************************************************\")\n",
    "print(\"Crops in Third Cluster\",z[z['cluster']==2]['label'].unique())\n",
    "print(\"****************************************************************************\")\n",
    "print(\"Crops in Fourth Cluster\",z[z['cluster']==3]['label'].unique())\n",
    "print(\"****************************************************************************\")"
   ]
  },
  {
   "cell_type": "code",
   "execution_count": 22,
   "metadata": {},
   "outputs": [
    {
     "name": "stdout",
     "output_type": "stream",
     "text": [
      "Shape of x  (2200, 7)\n",
      "Shape of y  (2200,)\n"
     ]
    }
   ],
   "source": [
    "## We use Logistic Regression Algorithm for our dataset\n",
    "# let's predict the output for Predictive Modelling\n",
    "\n",
    "y=data['label']\n",
    "x=data.drop(['label'],axis=1)\n",
    "print(\"Shape of x \",x.shape)\n",
    "print(\"Shape of y \",y.shape)"
   ]
  },
  {
   "cell_type": "code",
   "execution_count": 23,
   "metadata": {},
   "outputs": [
    {
     "name": "stdout",
     "output_type": "stream",
     "text": [
      "The shape of x train (1760, 7)\n",
      "The shape of x test (440, 7)\n",
      "The shape of y train (1760,)\n",
      "The shape of y test (440,)\n"
     ]
    }
   ],
   "source": [
    "## let's create Training and Testing sets for validation of resuts\n",
    "# Here we choose 80% of our data for training and 20% data for testing\n",
    "\n",
    "from sklearn.model_selection import train_test_split\n",
    "\n",
    "x_train, x_test, y_train,y_test=train_test_split(x,y,test_size=0.2,random_state=0)\n",
    "\n",
    "print(\"The shape of x train\",x_train.shape)\n",
    "print(\"The shape of x test\",x_test.shape)\n",
    "print(\"The shape of y train\",y_train.shape)\n",
    "print(\"The shape of y test\",y_test.shape)"
   ]
  },
  {
   "cell_type": "code",
   "execution_count": 24,
   "metadata": {},
   "outputs": [
    {
     "name": "stderr",
     "output_type": "stream",
     "text": [
      "c:\\users\\teela.lavanya\\appdata\\local\\programs\\python\\python36\\lib\\site-packages\\sklearn\\linear_model\\_logistic.py:765: ConvergenceWarning: lbfgs failed to converge (status=1):\n",
      "STOP: TOTAL NO. of ITERATIONS REACHED LIMIT.\n",
      "\n",
      "Increase the number of iterations (max_iter) or scale the data as shown in:\n",
      "    https://scikit-learn.org/stable/modules/preprocessing.html\n",
      "Please also refer to the documentation for alternative solver options:\n",
      "    https://scikit-learn.org/stable/modules/linear_model.html#logistic-regression\n",
      "  extra_warning_msg=_LOGISTIC_SOLVER_CONVERGENCE_MSG)\n"
     ]
    }
   ],
   "source": [
    "## let's create a Predictive Model\n",
    "\n",
    "from sklearn.linear_model import LogisticRegression\n",
    "\n",
    "model= LogisticRegression()\n",
    "model.fit(x_train,y_train)\n",
    "y_pred=model.predict(x_test)"
   ]
  },
  {
   "cell_type": "code",
   "execution_count": 25,
   "metadata": {},
   "outputs": [
    {
     "data": {
      "image/png": "[encoded data removed]",
      "text/plain": [
       "<Figure size 720x720 with 2 Axes>"
      ]
     },
     "metadata": {
      "needs_background": "light"
     },
     "output_type": "display_data"
    }
   ],
   "source": [
    "# let's evaluate the model performance \n",
    "\n",
    "from sklearn.metrics import confusion_matrix\n",
    "\n",
    "#let's print the Confusion Matrix first\n",
    "\n",
    "plt.rcParams['figure.figsize']=(10,10)\n",
    "cm=confusion_matrix(y_test,y_pred)\n",
    "sns.heatmap(cm,annot=True,cmap='Wistia')\n",
    "plt.title(\"Confusion Matrix for Logistic Regression\",fontsize=15)\n",
    "plt.show()"
   ]
  },
  {
   "cell_type": "code",
   "execution_count": 26,
   "metadata": {},
   "outputs": [
    {
     "name": "stdout",
     "output_type": "stream",
     "text": [
      "              precision    recall  f1-score   support\n",
      "\n",
      "       apple       1.00      1.00      1.00        18\n",
      "      banana       1.00      1.00      1.00        18\n",
      "   blackgram       0.86      0.82      0.84        22\n",
      "    chickpea       1.00      1.00      1.00        23\n",
      "     coconut       1.00      1.00      1.00        15\n",
      "      coffee       1.00      1.00      1.00        17\n",
      "      cotton       0.89      1.00      0.94        16\n",
      "      grapes       1.00      1.00      1.00        18\n",
      "        jute       0.84      1.00      0.91        21\n",
      " kidneybeans       1.00      1.00      1.00        20\n",
      "      lentil       0.94      0.94      0.94        17\n",
      "       maize       0.94      0.89      0.91        18\n",
      "       mango       1.00      1.00      1.00        21\n",
      "   mothbeans       0.88      0.92      0.90        25\n",
      "    mungbean       1.00      1.00      1.00        17\n",
      "   muskmelon       1.00      1.00      1.00        23\n",
      "      orange       1.00      1.00      1.00        23\n",
      "      papaya       1.00      0.95      0.98        21\n",
      "  pigeonpeas       1.00      1.00      1.00        22\n",
      " pomegranate       1.00      1.00      1.00        23\n",
      "        rice       1.00      0.84      0.91        25\n",
      "  watermelon       1.00      1.00      1.00        17\n",
      "\n",
      "    accuracy                           0.97       440\n",
      "   macro avg       0.97      0.97      0.97       440\n",
      "weighted avg       0.97      0.97      0.97       440\n",
      "\n"
     ]
    }
   ],
   "source": [
    "# let's print the Classification Report also\n",
    "# if precision and recall values are high then our results are accurate\n",
    "\n",
    "from sklearn.metrics import classification_report\n",
    "cr=classification_report(y_test,y_pred)\n",
    "print(cr)"
   ]
  },
  {
   "cell_type": "code",
   "execution_count": 27,
   "metadata": {},
   "outputs": [
    {
     "data": {
      "text/html": [
       "<div>\n",
       "<style scoped>\n",
       "    .dataframe tbody tr th:only-of-type {\n",
       "        vertical-align: middle;\n",
       "    }\n",
       "\n",
       "    .dataframe tbody tr th {\n",
       "        vertical-align: top;\n",
       "    }\n",
       "\n",
       "    .dataframe thead th {\n",
       "        text-align: right;\n",
       "    }\n",
       "</style>\n",
       "<table border=\"1\" class=\"dataframe\">\n",
       "  <thead>\n",
       "    <tr style=\"text-align: right;\">\n",
       "      <th></th>\n",
       "      <th>N</th>\n",
       "      <th>P</th>\n",
       "      <th>K</th>\n",
       "      <th>temperature</th>\n",
       "      <th>humidity</th>\n",
       "      <th>ph</th>\n",
       "      <th>rainfall</th>\n",
       "      <th>label</th>\n",
       "    </tr>\n",
       "  </thead>\n",
       "  <tbody>\n",
       "    <tr>\n",
       "      <th>0</th>\n",
       "      <td>90</td>\n",
       "      <td>42</td>\n",
       "      <td>43</td>\n",
       "      <td>20.879744</td>\n",
       "      <td>82.002744</td>\n",
       "      <td>6.502985</td>\n",
       "      <td>202.935536</td>\n",
       "      <td>rice</td>\n",
       "    </tr>\n",
       "    <tr>\n",
       "      <th>1</th>\n",
       "      <td>85</td>\n",
       "      <td>58</td>\n",
       "      <td>41</td>\n",
       "      <td>21.770462</td>\n",
       "      <td>80.319644</td>\n",
       "      <td>7.038096</td>\n",
       "      <td>226.655537</td>\n",
       "      <td>rice</td>\n",
       "    </tr>\n",
       "    <tr>\n",
       "      <th>2</th>\n",
       "      <td>60</td>\n",
       "      <td>55</td>\n",
       "      <td>44</td>\n",
       "      <td>23.004459</td>\n",
       "      <td>82.320763</td>\n",
       "      <td>7.840207</td>\n",
       "      <td>263.964248</td>\n",
       "      <td>rice</td>\n",
       "    </tr>\n",
       "    <tr>\n",
       "      <th>3</th>\n",
       "      <td>74</td>\n",
       "      <td>35</td>\n",
       "      <td>40</td>\n",
       "      <td>26.491096</td>\n",
       "      <td>80.158363</td>\n",
       "      <td>6.980401</td>\n",
       "      <td>242.864034</td>\n",
       "      <td>rice</td>\n",
       "    </tr>\n",
       "    <tr>\n",
       "      <th>4</th>\n",
       "      <td>78</td>\n",
       "      <td>42</td>\n",
       "      <td>42</td>\n",
       "      <td>20.130175</td>\n",
       "      <td>81.604873</td>\n",
       "      <td>7.628473</td>\n",
       "      <td>262.717340</td>\n",
       "      <td>rice</td>\n",
       "    </tr>\n",
       "  </tbody>\n",
       "</table>\n",
       "</div>"
      ],
      "text/plain": [
       "    N   P   K  temperature   humidity        ph    rainfall label\n",
       "0  90  42  43    20.879744  82.002744  6.502985  202.935536  rice\n",
       "1  85  58  41    21.770462  80.319644  7.038096  226.655537  rice\n",
       "2  60  55  44    23.004459  82.320763  7.840207  263.964248  rice\n",
       "3  74  35  40    26.491096  80.158363  6.980401  242.864034  rice\n",
       "4  78  42  42    20.130175  81.604873  7.628473  262.717340  rice"
      ]
     },
     "execution_count": 27,
     "metadata": {},
     "output_type": "execute_result"
    }
   ],
   "source": [
    "# let's check the head of the Dataset\n",
    "\n",
    "data.head()"
   ]
  },
  {
   "cell_type": "code",
   "execution_count": 28,
   "metadata": {},
   "outputs": [
    {
     "name": "stdout",
     "output_type": "stream",
     "text": [
      "The Suggested Crop for given Climatic Condition is :  ['rice']\n"
     ]
    }
   ],
   "source": [
    "## Now we will predict the output from our given input\n",
    "\n",
    "prediction=model.predict((np.array([[90,40,40,20,80,7,200]])))\n",
    "print(\"The Suggested Crop for given Climatic Condition is : \",prediction)"
   ]
  },
  {
   "cell_type": "code",
   "execution_count": null,
   "metadata": {},
   "outputs": [],
   "source": []
  }
 ],
 "metadata": {
  "kernelspec": {
   "display_name": "Python 3",
   "language": "python",
   "name": "python3"
  },
  "language_info": {
   "codemirror_mode": {
    "name": "ipython",
    "version": 3
   },
   "file_extension": ".py",
   "mimetype": "text/x-python",
   "name": "python",
   "nbconvert_exporter": "python",
   "pygments_lexer": "ipython3",
   "version": "3.6.8"
  }
 },
 "nbformat": 4,
 "nbformat_minor": 2
}
